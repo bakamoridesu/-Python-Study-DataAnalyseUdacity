{
 "cells": [
  {
   "cell_type": "markdown",
   "metadata": {},
   "source": [
    "Before we get started, a couple of reminders to keep in mind when using iPython notebooks:\n",
    "\n",
    "- Remember that you can see from the left side of a code cell when it was last run if there is a number within the brackets.\n",
    "- When you start a new notebook session, make sure you run all of the cells up to the point where you last left off. Even if the output is still visible from when you ran the cells in your previous session, the kernel starts in a fresh state so you'll need to reload the data, etc. on a new session.\n",
    "- The previous point is useful to keep in mind if your answers do not match what is expected in the lesson's quizzes. Try reloading the data and run all of the processing steps one by one in order to make sure that you are working with the same variables and data that are at each quiz stage.\n",
    "\n",
    "\n",
    "## Load Data from CSVs"
   ]
  },
  {
   "cell_type": "code",
   "execution_count": 1,
   "metadata": {},
   "outputs": [],
   "source": [
    "import unicodecsv\n",
    "\n",
    "## Longer version of code (replaced with shorter, equivalent version below)\n",
    "\n",
    "# enrollments = []\n",
    "# f = open('enrollments.csv', 'rb')\n",
    "# reader = unicodecsv.DictReader(f)\n",
    "# for row in reader:\n",
    "#     enrollments.append(row)\n",
    "# f.close()\n",
    "\n",
    "def open_csv(file_name):\n",
    "    with open(file_name, 'rb') as f:\n",
    "        reader = unicodecsv.DictReader(f)\n",
    "        return list(reader)"
   ]
  },
  {
   "cell_type": "code",
   "execution_count": 2,
   "metadata": {},
   "outputs": [],
   "source": [
    "#####################################\n",
    "#                 1                 #\n",
    "#####################################\n",
    "\n",
    "## Read in the data from daily_engagement.csv and project_submissions.csv \n",
    "## and store the results in the below variables.\n",
    "## Then look at the first row of each table.\n",
    "\n",
    "enrollments = open_csv('enrollments.csv')\n",
    "daily_engagement = open_csv('daily_engagement.csv')\n",
    "project_submissions = open_csv('project_submissions.csv')"
   ]
  },
  {
   "cell_type": "markdown",
   "metadata": {},
   "source": [
    "## Fixing Data Types"
   ]
  },
  {
   "cell_type": "code",
   "execution_count": 3,
   "metadata": {},
   "outputs": [
    {
     "data": {
      "text/plain": [
       "OrderedDict([('account_key', '448'),\n",
       "             ('status', 'canceled'),\n",
       "             ('join_date', datetime.datetime(2014, 11, 10, 0, 0)),\n",
       "             ('cancel_date', datetime.datetime(2015, 1, 14, 0, 0)),\n",
       "             ('days_to_cancel', 65),\n",
       "             ('is_udacity', True),\n",
       "             ('is_canceled', True)])"
      ]
     },
     "execution_count": 3,
     "metadata": {},
     "output_type": "execute_result"
    }
   ],
   "source": [
    "from datetime import datetime as dt\n",
    "\n",
    "# Takes a date as a string, and returns a Python datetime object. \n",
    "# If there is no date given, returns None\n",
    "def parse_date(date):\n",
    "    if date == '':\n",
    "        return None\n",
    "    else:\n",
    "        return dt.strptime(date, '%Y-%m-%d')\n",
    "    \n",
    "# Takes a string which is either an empty string or represents an integer,\n",
    "# and returns an int or None.\n",
    "def parse_maybe_int(i):\n",
    "    if i == '':\n",
    "        return None\n",
    "    else:\n",
    "        return int(i)\n",
    "\n",
    "# Clean up the data types in the enrollments table\n",
    "for enrollment in enrollments:\n",
    "    enrollment['cancel_date'] = parse_date(enrollment['cancel_date'])\n",
    "    enrollment['days_to_cancel'] = parse_maybe_int(enrollment['days_to_cancel'])\n",
    "    enrollment['is_canceled'] = enrollment['is_canceled'] == 'True'\n",
    "    enrollment['is_udacity'] = enrollment['is_udacity'] == 'True'\n",
    "    enrollment['join_date'] = parse_date(enrollment['join_date'])\n",
    "    \n",
    "enrollments[0]"
   ]
  },
  {
   "cell_type": "code",
   "execution_count": 4,
   "metadata": {},
   "outputs": [
    {
     "data": {
      "text/plain": [
       "OrderedDict([('acct', '0'),\n",
       "             ('utc_date', datetime.datetime(2015, 1, 9, 0, 0)),\n",
       "             ('num_courses_visited', 1),\n",
       "             ('total_minutes_visited', 11.6793745),\n",
       "             ('lessons_completed', 0),\n",
       "             ('projects_completed', 0)])"
      ]
     },
     "execution_count": 4,
     "metadata": {},
     "output_type": "execute_result"
    }
   ],
   "source": [
    "# Clean up the data types in the engagement table\n",
    "for engagement_record in daily_engagement:\n",
    "    engagement_record['lessons_completed'] = int(float(engagement_record['lessons_completed']))\n",
    "    engagement_record['num_courses_visited'] = int(float(engagement_record['num_courses_visited']))\n",
    "    engagement_record['projects_completed'] = int(float(engagement_record['projects_completed']))\n",
    "    engagement_record['total_minutes_visited'] = float(engagement_record['total_minutes_visited'])\n",
    "    engagement_record['utc_date'] = parse_date(engagement_record['utc_date'])\n",
    "    \n",
    "daily_engagement[0]"
   ]
  },
  {
   "cell_type": "code",
   "execution_count": 5,
   "metadata": {},
   "outputs": [
    {
     "data": {
      "text/plain": [
       "OrderedDict([('creation_date', datetime.datetime(2015, 1, 14, 0, 0)),\n",
       "             ('completion_date', datetime.datetime(2015, 1, 16, 0, 0)),\n",
       "             ('assigned_rating', 'UNGRADED'),\n",
       "             ('account_key', '256'),\n",
       "             ('lesson_key', '3176718735'),\n",
       "             ('processing_state', 'EVALUATED')])"
      ]
     },
     "execution_count": 5,
     "metadata": {},
     "output_type": "execute_result"
    }
   ],
   "source": [
    "# Clean up the data types in the submissions table\n",
    "for submission in project_submissions:\n",
    "    submission['completion_date'] = parse_date(submission['completion_date'])\n",
    "    submission['creation_date'] = parse_date(submission['creation_date'])\n",
    "\n",
    "project_submissions[0]"
   ]
  },
  {
   "cell_type": "markdown",
   "metadata": {},
   "source": [
    "Note when running the above cells that we are actively changing the contents of our data variables. If you try to run these cells multiple times in the same session, an error will occur.\n",
    "\n",
    "## Investigating the Data"
   ]
  },
  {
   "cell_type": "code",
   "execution_count": 8,
   "metadata": {},
   "outputs": [],
   "source": [
    "def unique_students(list_name):\n",
    "    unique_set = set()\n",
    "    for item in list_name:\n",
    "        unique_set.add(item['account_key'])\n",
    "    return unique_set"
   ]
  },
  {
   "cell_type": "code",
   "execution_count": 12,
   "metadata": {},
   "outputs": [
    {
     "name": "stdout",
     "output_type": "stream",
     "text": [
      "enrollments\n",
      "1302\n",
      "1640\n",
      "project_submissions\n",
      "743\n",
      "3642\n",
      "daily_engagement\n",
      "1237\n",
      "136240\n"
     ]
    }
   ],
   "source": [
    "#####################################\n",
    "#                 2                 #\n",
    "#####################################\n",
    "\n",
    "## Find the total number of rows and the number of unique students (account keys)\n",
    "## in each table.\n",
    "print('enrollments')\n",
    "unique_students_enrollments = unique_students(enrollments)\n",
    "print(len(unique_students_enrollments))\n",
    "print(len(enrollments))\n",
    "print('project_submissions')\n",
    "unique_students_project_submissions = unique_students(project_submissions)\n",
    "print(len(unique_students_project_submissions))\n",
    "print(len(project_submissions))\n",
    "print('daily_engagement')\n",
    "unique_students_daily_engagement = unique_students(daily_engagement)\n",
    "print(len(unique_students_daily_engagement))\n",
    "print(len(daily_engagement))\n"
   ]
  },
  {
   "cell_type": "markdown",
   "metadata": {},
   "source": [
    "## Problems in the Data"
   ]
  },
  {
   "cell_type": "code",
   "execution_count": 16,
   "metadata": {},
   "outputs": [
    {
     "ename": "KeyError",
     "evalue": "'acct'",
     "output_type": "error",
     "traceback": [
      "\u001b[1;31m---------------------------------------------------------------------------\u001b[0m",
      "\u001b[1;31mKeyError\u001b[0m                                  Traceback (most recent call last)",
      "\u001b[1;32m<ipython-input-16-2424983c39a4>\u001b[0m in \u001b[0;36m<module>\u001b[1;34m()\u001b[0m\n\u001b[0;32m      5\u001b[0m \u001b[1;31m## Rename the \"acct\" column in the daily_engagement table to \"account_key\".\u001b[0m\u001b[1;33m\u001b[0m\u001b[1;33m\u001b[0m\u001b[0m\n\u001b[0;32m      6\u001b[0m \u001b[1;32mfor\u001b[0m \u001b[0mitem\u001b[0m \u001b[1;32min\u001b[0m \u001b[0mdaily_engagement\u001b[0m\u001b[1;33m:\u001b[0m\u001b[1;33m\u001b[0m\u001b[0m\n\u001b[1;32m----> 7\u001b[1;33m     \u001b[0mitem\u001b[0m\u001b[1;33m[\u001b[0m\u001b[1;34m'account_key'\u001b[0m\u001b[1;33m]\u001b[0m \u001b[1;33m=\u001b[0m \u001b[0mitem\u001b[0m\u001b[1;33m.\u001b[0m\u001b[0mpop\u001b[0m\u001b[1;33m(\u001b[0m\u001b[1;34m'acct'\u001b[0m\u001b[1;33m)\u001b[0m\u001b[1;33m\u001b[0m\u001b[0m\n\u001b[0m",
      "\u001b[1;31mKeyError\u001b[0m: 'acct'"
     ]
    }
   ],
   "source": [
    "#####################################\n",
    "#                 3                 #\n",
    "#####################################\n",
    "\n",
    "## Rename the \"acct\" column in the daily_engagement table to \"account_key\".\n",
    "for item in daily_engagement:\n",
    "    item['account_key'] = item.pop('acct')"
   ]
  },
  {
   "cell_type": "markdown",
   "metadata": {},
   "source": [
    "## Missing Engagement Records"
   ]
  },
  {
   "cell_type": "code",
   "execution_count": 20,
   "metadata": {},
   "outputs": [
    {
     "name": "stdout",
     "output_type": "stream",
     "text": [
      "OrderedDict([('account_key', '1219'), ('status', 'canceled'), ('join_date', datetime.datetime(2014, 11, 12, 0, 0)), ('cancel_date', datetime.datetime(2014, 11, 12, 0, 0)), ('days_to_cancel', 0), ('is_udacity', False), ('is_canceled', True)])\n",
      "OrderedDict([('account_key', '871'), ('status', 'canceled'), ('join_date', datetime.datetime(2014, 11, 13, 0, 0)), ('cancel_date', datetime.datetime(2014, 11, 13, 0, 0)), ('days_to_cancel', 0), ('is_udacity', False), ('is_canceled', True)])\n",
      "OrderedDict([('account_key', '1218'), ('status', 'canceled'), ('join_date', datetime.datetime(2014, 11, 15, 0, 0)), ('cancel_date', datetime.datetime(2014, 11, 15, 0, 0)), ('days_to_cancel', 0), ('is_udacity', False), ('is_canceled', True)])\n",
      "OrderedDict([('account_key', '654'), ('status', 'canceled'), ('join_date', datetime.datetime(2014, 12, 4, 0, 0)), ('cancel_date', datetime.datetime(2014, 12, 4, 0, 0)), ('days_to_cancel', 0), ('is_udacity', False), ('is_canceled', True)])\n",
      "OrderedDict([('account_key', '654'), ('status', 'canceled'), ('join_date', datetime.datetime(2014, 12, 4, 0, 0)), ('cancel_date', datetime.datetime(2014, 12, 4, 0, 0)), ('days_to_cancel', 0), ('is_udacity', False), ('is_canceled', True)])\n",
      "OrderedDict([('account_key', '654'), ('status', 'canceled'), ('join_date', datetime.datetime(2014, 12, 3, 0, 0)), ('cancel_date', datetime.datetime(2014, 12, 3, 0, 0)), ('days_to_cancel', 0), ('is_udacity', False), ('is_canceled', True)])\n",
      "OrderedDict([('account_key', '964'), ('status', 'canceled'), ('join_date', datetime.datetime(2014, 12, 4, 0, 0)), ('cancel_date', datetime.datetime(2014, 12, 4, 0, 0)), ('days_to_cancel', 0), ('is_udacity', False), ('is_canceled', True)])\n",
      "OrderedDict([('account_key', '817'), ('status', 'canceled'), ('join_date', datetime.datetime(2014, 12, 9, 0, 0)), ('cancel_date', datetime.datetime(2014, 12, 9, 0, 0)), ('days_to_cancel', 0), ('is_udacity', False), ('is_canceled', True)])\n",
      "OrderedDict([('account_key', '1171'), ('status', 'canceled'), ('join_date', datetime.datetime(2015, 1, 7, 0, 0)), ('cancel_date', datetime.datetime(2015, 1, 7, 0, 0)), ('days_to_cancel', 0), ('is_udacity', False), ('is_canceled', True)])\n",
      "OrderedDict([('account_key', '884'), ('status', 'canceled'), ('join_date', datetime.datetime(2015, 1, 8, 0, 0)), ('cancel_date', datetime.datetime(2015, 1, 8, 0, 0)), ('days_to_cancel', 0), ('is_udacity', False), ('is_canceled', True)])\n",
      "OrderedDict([('account_key', '875'), ('status', 'canceled'), ('join_date', datetime.datetime(2014, 11, 17, 0, 0)), ('cancel_date', datetime.datetime(2014, 11, 17, 0, 0)), ('days_to_cancel', 0), ('is_udacity', False), ('is_canceled', True)])\n",
      "OrderedDict([('account_key', '1120'), ('status', 'canceled'), ('join_date', datetime.datetime(2014, 12, 4, 0, 0)), ('cancel_date', datetime.datetime(2014, 12, 4, 0, 0)), ('days_to_cancel', 0), ('is_udacity', False), ('is_canceled', True)])\n",
      "OrderedDict([('account_key', '728'), ('status', 'canceled'), ('join_date', datetime.datetime(2014, 12, 5, 0, 0)), ('cancel_date', datetime.datetime(2014, 12, 5, 0, 0)), ('days_to_cancel', 0), ('is_udacity', False), ('is_canceled', True)])\n",
      "OrderedDict([('account_key', '1191'), ('status', 'canceled'), ('join_date', datetime.datetime(2015, 1, 11, 0, 0)), ('cancel_date', datetime.datetime(2015, 1, 11, 0, 0)), ('days_to_cancel', 0), ('is_udacity', False), ('is_canceled', True)])\n",
      "OrderedDict([('account_key', '1304'), ('status', 'canceled'), ('join_date', datetime.datetime(2015, 1, 10, 0, 0)), ('cancel_date', datetime.datetime(2015, 3, 10, 0, 0)), ('days_to_cancel', 59), ('is_udacity', True), ('is_canceled', True)])\n",
      "OrderedDict([('account_key', '1304'), ('status', 'canceled'), ('join_date', datetime.datetime(2015, 3, 10, 0, 0)), ('cancel_date', datetime.datetime(2015, 6, 17, 0, 0)), ('days_to_cancel', 99), ('is_udacity', True), ('is_canceled', True)])\n",
      "OrderedDict([('account_key', '1010'), ('status', 'canceled'), ('join_date', datetime.datetime(2015, 1, 11, 0, 0)), ('cancel_date', datetime.datetime(2015, 1, 11, 0, 0)), ('days_to_cancel', 0), ('is_udacity', False), ('is_canceled', True)])\n",
      "OrderedDict([('account_key', '841'), ('status', 'canceled'), ('join_date', datetime.datetime(2014, 11, 12, 0, 0)), ('cancel_date', datetime.datetime(2014, 11, 12, 0, 0)), ('days_to_cancel', 0), ('is_udacity', False), ('is_canceled', True)])\n",
      "OrderedDict([('account_key', '707'), ('status', 'canceled'), ('join_date', datetime.datetime(2014, 12, 3, 0, 0)), ('cancel_date', datetime.datetime(2014, 12, 3, 0, 0)), ('days_to_cancel', 0), ('is_udacity', False), ('is_canceled', True)])\n",
      "OrderedDict([('account_key', '717'), ('status', 'canceled'), ('join_date', datetime.datetime(2014, 12, 4, 0, 0)), ('cancel_date', datetime.datetime(2014, 12, 4, 0, 0)), ('days_to_cancel', 0), ('is_udacity', False), ('is_canceled', True)])\n",
      "OrderedDict([('account_key', '727'), ('status', 'canceled'), ('join_date', datetime.datetime(2014, 12, 7, 0, 0)), ('cancel_date', datetime.datetime(2014, 12, 7, 0, 0)), ('days_to_cancel', 0), ('is_udacity', False), ('is_canceled', True)])\n",
      "OrderedDict([('account_key', '1273'), ('status', 'canceled'), ('join_date', datetime.datetime(2015, 1, 12, 0, 0)), ('cancel_date', datetime.datetime(2015, 1, 12, 0, 0)), ('days_to_cancel', 0), ('is_udacity', False), ('is_canceled', True)])\n",
      "OrderedDict([('account_key', '1238'), ('status', 'canceled'), ('join_date', datetime.datetime(2014, 11, 10, 0, 0)), ('cancel_date', datetime.datetime(2014, 11, 10, 0, 0)), ('days_to_cancel', 0), ('is_udacity', False), ('is_canceled', True)])\n",
      "OrderedDict([('account_key', '1044'), ('status', 'canceled'), ('join_date', datetime.datetime(2015, 2, 8, 0, 0)), ('cancel_date', datetime.datetime(2015, 2, 8, 0, 0)), ('days_to_cancel', 0), ('is_udacity', False), ('is_canceled', True)])\n",
      "OrderedDict([('account_key', '749'), ('status', 'canceled'), ('join_date', datetime.datetime(2015, 3, 5, 0, 0)), ('cancel_date', datetime.datetime(2015, 3, 5, 0, 0)), ('days_to_cancel', 0), ('is_udacity', False), ('is_canceled', True)])\n",
      "OrderedDict([('account_key', '1129'), ('status', 'canceled'), ('join_date', datetime.datetime(2015, 3, 7, 0, 0)), ('cancel_date', datetime.datetime(2015, 3, 7, 0, 0)), ('days_to_cancel', 0), ('is_udacity', False), ('is_canceled', True)])\n",
      "OrderedDict([('account_key', '1129'), ('status', 'canceled'), ('join_date', datetime.datetime(2015, 2, 11, 0, 0)), ('cancel_date', datetime.datetime(2015, 2, 11, 0, 0)), ('days_to_cancel', 0), ('is_udacity', False), ('is_canceled', True)])\n",
      "OrderedDict([('account_key', '926'), ('status', 'canceled'), ('join_date', datetime.datetime(2015, 4, 6, 0, 0)), ('cancel_date', datetime.datetime(2015, 4, 6, 0, 0)), ('days_to_cancel', 0), ('is_udacity', False), ('is_canceled', True)])\n",
      "OrderedDict([('account_key', '711'), ('status', 'canceled'), ('join_date', datetime.datetime(2015, 5, 8, 0, 0)), ('cancel_date', datetime.datetime(2015, 5, 8, 0, 0)), ('days_to_cancel', 0), ('is_udacity', False), ('is_canceled', True)])\n",
      "OrderedDict([('account_key', '803'), ('status', 'canceled'), ('join_date', datetime.datetime(2015, 1, 8, 0, 0)), ('cancel_date', datetime.datetime(2015, 1, 8, 0, 0)), ('days_to_cancel', 0), ('is_udacity', False), ('is_canceled', True)])\n",
      "OrderedDict([('account_key', '799'), ('status', 'canceled'), ('join_date', datetime.datetime(2015, 2, 6, 0, 0)), ('cancel_date', datetime.datetime(2015, 2, 6, 0, 0)), ('days_to_cancel', 0), ('is_udacity', False), ('is_canceled', True)])\n",
      "OrderedDict([('account_key', '789'), ('status', 'canceled'), ('join_date', datetime.datetime(2015, 2, 6, 0, 0)), ('cancel_date', datetime.datetime(2015, 2, 6, 0, 0)), ('days_to_cancel', 0), ('is_udacity', False), ('is_canceled', True)])\n",
      "OrderedDict([('account_key', '819'), ('status', 'canceled'), ('join_date', datetime.datetime(2015, 3, 4, 0, 0)), ('cancel_date', datetime.datetime(2015, 3, 4, 0, 0)), ('days_to_cancel', 0), ('is_udacity', False), ('is_canceled', True)])\n",
      "OrderedDict([('account_key', '819'), ('status', 'canceled'), ('join_date', datetime.datetime(2015, 3, 4, 0, 0)), ('cancel_date', datetime.datetime(2015, 3, 4, 0, 0)), ('days_to_cancel', 0), ('is_udacity', False), ('is_canceled', True)])\n",
      "OrderedDict([('account_key', '902'), ('status', 'canceled'), ('join_date', datetime.datetime(2015, 5, 29, 0, 0)), ('cancel_date', datetime.datetime(2015, 5, 29, 0, 0)), ('days_to_cancel', 0), ('is_udacity', False), ('is_canceled', True)])\n",
      "OrderedDict([('account_key', '996'), ('status', 'canceled'), ('join_date', datetime.datetime(2015, 5, 29, 0, 0)), ('cancel_date', datetime.datetime(2015, 5, 29, 0, 0)), ('days_to_cancel', 0), ('is_udacity', False), ('is_canceled', True)])\n",
      "OrderedDict([('account_key', '1213'), ('status', 'canceled'), ('join_date', datetime.datetime(2015, 1, 12, 0, 0)), ('cancel_date', datetime.datetime(2015, 1, 12, 0, 0)), ('days_to_cancel', 0), ('is_udacity', False), ('is_canceled', True)])\n",
      "OrderedDict([('account_key', '733'), ('status', 'canceled'), ('join_date', datetime.datetime(2015, 1, 12, 0, 0)), ('cancel_date', datetime.datetime(2015, 1, 12, 0, 0)), ('days_to_cancel', 0), ('is_udacity', False), ('is_canceled', True)])\n",
      "OrderedDict([('account_key', '1237'), ('status', 'canceled'), ('join_date', datetime.datetime(2015, 5, 28, 0, 0)), ('cancel_date', datetime.datetime(2015, 5, 28, 0, 0)), ('days_to_cancel', 0), ('is_udacity', False), ('is_canceled', True)])\n",
      "OrderedDict([('account_key', '1069'), ('status', 'canceled'), ('join_date', datetime.datetime(2015, 6, 1, 0, 0)), ('cancel_date', datetime.datetime(2015, 6, 1, 0, 0)), ('days_to_cancel', 0), ('is_udacity', True), ('is_canceled', True)])\n",
      "OrderedDict([('account_key', '1086'), ('status', 'canceled'), ('join_date', datetime.datetime(2015, 6, 9, 0, 0)), ('cancel_date', datetime.datetime(2015, 6, 9, 0, 0)), ('days_to_cancel', 0), ('is_udacity', False), ('is_canceled', True)])\n",
      "OrderedDict([('account_key', '1190'), ('status', 'canceled'), ('join_date', datetime.datetime(2015, 3, 6, 0, 0)), ('cancel_date', datetime.datetime(2015, 3, 6, 0, 0)), ('days_to_cancel', 0), ('is_udacity', False), ('is_canceled', True)])\n",
      "OrderedDict([('account_key', '914'), ('status', 'canceled'), ('join_date', datetime.datetime(2015, 4, 2, 0, 0)), ('cancel_date', datetime.datetime(2015, 4, 2, 0, 0)), ('days_to_cancel', 0), ('is_udacity', False), ('is_canceled', True)])\n",
      "OrderedDict([('account_key', '914'), ('status', 'canceled'), ('join_date', datetime.datetime(2015, 7, 17, 0, 0)), ('cancel_date', datetime.datetime(2015, 7, 17, 0, 0)), ('days_to_cancel', 0), ('is_udacity', False), ('is_canceled', True)])\n",
      "OrderedDict([('account_key', '968'), ('status', 'canceled'), ('join_date', datetime.datetime(2015, 7, 17, 0, 0)), ('cancel_date', datetime.datetime(2015, 7, 17, 0, 0)), ('days_to_cancel', 0), ('is_udacity', False), ('is_canceled', True)])\n",
      "OrderedDict([('account_key', '1155'), ('status', 'canceled'), ('join_date', datetime.datetime(2015, 7, 17, 0, 0)), ('cancel_date', datetime.datetime(2015, 7, 17, 0, 0)), ('days_to_cancel', 0), ('is_udacity', False), ('is_canceled', True)])\n",
      "OrderedDict([('account_key', '766'), ('status', 'canceled'), ('join_date', datetime.datetime(2015, 5, 10, 0, 0)), ('cancel_date', datetime.datetime(2015, 5, 10, 0, 0)), ('days_to_cancel', 0), ('is_udacity', False), ('is_canceled', True)])\n",
      "OrderedDict([('account_key', '739'), ('status', 'canceled'), ('join_date', datetime.datetime(2015, 4, 5, 0, 0)), ('cancel_date', datetime.datetime(2015, 4, 5, 0, 0)), ('days_to_cancel', 0), ('is_udacity', False), ('is_canceled', True)])\n",
      "OrderedDict([('account_key', '1222'), ('status', 'canceled'), ('join_date', datetime.datetime(2015, 4, 7, 0, 0)), ('cancel_date', datetime.datetime(2015, 4, 7, 0, 0)), ('days_to_cancel', 0), ('is_udacity', False), ('is_canceled', True)])\n",
      "OrderedDict([('account_key', '1125'), ('status', 'canceled'), ('join_date', datetime.datetime(2015, 5, 31, 0, 0)), ('cancel_date', datetime.datetime(2015, 5, 31, 0, 0)), ('days_to_cancel', 0), ('is_udacity', False), ('is_canceled', True)])\n",
      "OrderedDict([('account_key', '1025'), ('status', 'canceled'), ('join_date', datetime.datetime(2015, 6, 7, 0, 0)), ('cancel_date', datetime.datetime(2015, 6, 7, 0, 0)), ('days_to_cancel', 0), ('is_udacity', False), ('is_canceled', True)])\n",
      "OrderedDict([('account_key', '750'), ('status', 'canceled'), ('join_date', datetime.datetime(2015, 6, 6, 0, 0)), ('cancel_date', datetime.datetime(2015, 6, 6, 0, 0)), ('days_to_cancel', 0), ('is_udacity', False), ('is_canceled', True)])\n",
      "OrderedDict([('account_key', '889'), ('status', 'canceled'), ('join_date', datetime.datetime(2015, 8, 11, 0, 0)), ('cancel_date', datetime.datetime(2015, 8, 11, 0, 0)), ('days_to_cancel', 0), ('is_udacity', False), ('is_canceled', True)])\n",
      "OrderedDict([('account_key', '737'), ('status', 'canceled'), ('join_date', datetime.datetime(2014, 11, 10, 0, 0)), ('cancel_date', datetime.datetime(2014, 11, 10, 0, 0)), ('days_to_cancel', 0), ('is_udacity', False), ('is_canceled', True)])\n",
      "OrderedDict([('account_key', '878'), ('status', 'canceled'), ('join_date', datetime.datetime(2014, 11, 10, 0, 0)), ('cancel_date', datetime.datetime(2014, 11, 10, 0, 0)), ('days_to_cancel', 0), ('is_udacity', False), ('is_canceled', True)])\n",
      "OrderedDict([('account_key', '981'), ('status', 'canceled'), ('join_date', datetime.datetime(2015, 2, 7, 0, 0)), ('cancel_date', datetime.datetime(2015, 2, 7, 0, 0)), ('days_to_cancel', 0), ('is_udacity', False), ('is_canceled', True)])\n",
      "OrderedDict([('account_key', '1101'), ('status', 'current'), ('join_date', datetime.datetime(2015, 2, 25, 0, 0)), ('cancel_date', None), ('days_to_cancel', None), ('is_udacity', True), ('is_canceled', False)])\n",
      "OrderedDict([('account_key', '1148'), ('status', 'canceled'), ('join_date', datetime.datetime(2015, 3, 9, 0, 0)), ('cancel_date', datetime.datetime(2015, 3, 9, 0, 0)), ('days_to_cancel', 0), ('is_udacity', False), ('is_canceled', True)])\n",
      "OrderedDict([('account_key', '1186'), ('status', 'canceled'), ('join_date', datetime.datetime(2015, 3, 11, 0, 0)), ('cancel_date', datetime.datetime(2015, 3, 11, 0, 0)), ('days_to_cancel', 0), ('is_udacity', False), ('is_canceled', True)])\n",
      "OrderedDict([('account_key', '725'), ('status', 'canceled'), ('join_date', datetime.datetime(2014, 12, 6, 0, 0)), ('cancel_date', datetime.datetime(2014, 12, 6, 0, 0)), ('days_to_cancel', 0), ('is_udacity', False), ('is_canceled', True)])\n",
      "OrderedDict([('account_key', '1145'), ('status', 'canceled'), ('join_date', datetime.datetime(2015, 4, 4, 0, 0)), ('cancel_date', datetime.datetime(2015, 4, 4, 0, 0)), ('days_to_cancel', 0), ('is_udacity', False), ('is_canceled', True)])\n",
      "OrderedDict([('account_key', '802'), ('status', 'canceled'), ('join_date', datetime.datetime(2015, 1, 8, 0, 0)), ('cancel_date', datetime.datetime(2015, 1, 8, 0, 0)), ('days_to_cancel', 0), ('is_udacity', False), ('is_canceled', True)])\n",
      "OrderedDict([('account_key', '664'), ('status', 'canceled'), ('join_date', datetime.datetime(2015, 1, 8, 0, 0)), ('cancel_date', datetime.datetime(2015, 1, 8, 0, 0)), ('days_to_cancel', 0), ('is_udacity', False), ('is_canceled', True)])\n",
      "OrderedDict([('account_key', '997'), ('status', 'canceled'), ('join_date', datetime.datetime(2015, 1, 12, 0, 0)), ('cancel_date', datetime.datetime(2015, 1, 12, 0, 0)), ('days_to_cancel', 0), ('is_udacity', False), ('is_canceled', True)])\n",
      "OrderedDict([('account_key', '870'), ('status', 'canceled'), ('join_date', datetime.datetime(2015, 5, 12, 0, 0)), ('cancel_date', datetime.datetime(2015, 5, 12, 0, 0)), ('days_to_cancel', 0), ('is_udacity', False), ('is_canceled', True)])\n",
      "OrderedDict([('account_key', '1284'), ('status', 'canceled'), ('join_date', datetime.datetime(2015, 1, 13, 0, 0)), ('cancel_date', datetime.datetime(2015, 1, 13, 0, 0)), ('days_to_cancel', 0), ('is_udacity', False), ('is_canceled', True)])\n",
      "OrderedDict([('account_key', '1079'), ('status', 'canceled'), ('join_date', datetime.datetime(2015, 2, 9, 0, 0)), ('cancel_date', datetime.datetime(2015, 2, 9, 0, 0)), ('days_to_cancel', 0), ('is_udacity', False), ('is_canceled', True)])\n",
      "OrderedDict([('account_key', '1063'), ('status', 'canceled'), ('join_date', datetime.datetime(2015, 7, 14, 0, 0)), ('cancel_date', datetime.datetime(2015, 7, 14, 0, 0)), ('days_to_cancel', 0), ('is_udacity', False), ('is_canceled', True)])\n",
      "OrderedDict([('account_key', '1270'), ('status', 'canceled'), ('join_date', datetime.datetime(2015, 7, 20, 0, 0)), ('cancel_date', datetime.datetime(2015, 7, 20, 0, 0)), ('days_to_cancel', 0), ('is_udacity', False), ('is_canceled', True)])\n",
      "OrderedDict([('account_key', '1291'), ('status', 'canceled'), ('join_date', datetime.datetime(2015, 6, 3, 0, 0)), ('cancel_date', datetime.datetime(2015, 6, 3, 0, 0)), ('days_to_cancel', 0), ('is_udacity', False), ('is_canceled', True)])\n",
      "OrderedDict([('account_key', '1241'), ('status', 'canceled'), ('join_date', datetime.datetime(2015, 6, 9, 0, 0)), ('cancel_date', datetime.datetime(2015, 6, 9, 0, 0)), ('days_to_cancel', 0), ('is_udacity', False), ('is_canceled', True)])\n",
      "0\n"
     ]
    }
   ],
   "source": [
    "#####################################\n",
    "#                 4                 #\n",
    "#####################################\n",
    "\n",
    "## Find any one student enrollments where the student is missing from the daily engagement table.\n",
    "## Output that enrollment.\n",
    "count = 0\n",
    "for item in enrollments:\n",
    "    if item['account_key'] not in unique_students_daily_engagement:\n",
    "        print(item)\n",
    "print(count)\n"
   ]
  },
  {
   "cell_type": "markdown",
   "metadata": {},
   "source": [
    "## Checking for More Problem Records"
   ]
  },
  {
   "cell_type": "code",
   "execution_count": 21,
   "metadata": {},
   "outputs": [
    {
     "name": "stdout",
     "output_type": "stream",
     "text": [
      "OrderedDict([('account_key', '1304'), ('status', 'canceled'), ('join_date', datetime.datetime(2015, 1, 10, 0, 0)), ('cancel_date', datetime.datetime(2015, 3, 10, 0, 0)), ('days_to_cancel', 59), ('is_udacity', True), ('is_canceled', True)])\n",
      "OrderedDict([('account_key', '1304'), ('status', 'canceled'), ('join_date', datetime.datetime(2015, 3, 10, 0, 0)), ('cancel_date', datetime.datetime(2015, 6, 17, 0, 0)), ('days_to_cancel', 99), ('is_udacity', True), ('is_canceled', True)])\n",
      "OrderedDict([('account_key', '1101'), ('status', 'current'), ('join_date', datetime.datetime(2015, 2, 25, 0, 0)), ('cancel_date', None), ('days_to_cancel', None), ('is_udacity', True), ('is_canceled', False)])\n"
     ]
    }
   ],
   "source": [
    "#####################################\n",
    "#                 5                 #\n",
    "#####################################\n",
    "\n",
    "## Find the number of surprising data points (enrollments missing from\n",
    "## the engagement table) that remain, if any.\n",
    "for item in enrollments:\n",
    "    if item['account_key'] not in unique_students_daily_engagement \\\n",
    "        and item['days_to_cancel'] != 0:\n",
    "            print(item)"
   ]
  },
  {
   "cell_type": "markdown",
   "metadata": {},
   "source": [
    "## Tracking Down the Remaining Problems"
   ]
  },
  {
   "cell_type": "code",
   "execution_count": 22,
   "metadata": {},
   "outputs": [
    {
     "data": {
      "text/plain": [
       "6"
      ]
     },
     "execution_count": 22,
     "metadata": {},
     "output_type": "execute_result"
    }
   ],
   "source": [
    "# Create a set of the account keys for all Udacity test accounts\n",
    "udacity_test_accounts = set()\n",
    "for enrollment in enrollments:\n",
    "    if enrollment['is_udacity']:\n",
    "        udacity_test_accounts.add(enrollment['account_key'])\n",
    "len(udacity_test_accounts)"
   ]
  },
  {
   "cell_type": "code",
   "execution_count": 23,
   "metadata": {},
   "outputs": [],
   "source": [
    "# Given some data with an account_key field, removes any records corresponding to Udacity test accounts\n",
    "def remove_udacity_accounts(data):\n",
    "    non_udacity_data = []\n",
    "    for data_point in data:\n",
    "        if data_point['account_key'] not in udacity_test_accounts:\n",
    "            non_udacity_data.append(data_point)\n",
    "    return non_udacity_data"
   ]
  },
  {
   "cell_type": "code",
   "execution_count": 27,
   "metadata": {},
   "outputs": [
    {
     "name": "stdout",
     "output_type": "stream",
     "text": [
      "1622\n",
      "135656\n",
      "3634\n"
     ]
    }
   ],
   "source": [
    "# Remove Udacity test accounts from all three tables\n",
    "non_udacity_enrollments = remove_udacity_accounts(enrollments)\n",
    "non_udacity_engagement = remove_udacity_accounts(daily_engagement)\n",
    "non_udacity_submissions = remove_udacity_accounts(project_submissions)\n",
    "print (len(non_udacity_enrollments))\n",
    "print (len(non_udacity_engagement))\n",
    "print (len(non_udacity_submissions))"
   ]
  },
  {
   "cell_type": "markdown",
   "metadata": {},
   "source": [
    "## Refining the Question"
   ]
  },
  {
   "cell_type": "code",
   "execution_count": null,
   "metadata": {
    "collapsed": true
   },
   "outputs": [],
   "source": [
    "#####################################\n",
    "#                 6                 #\n",
    "#####################################\n",
    "\n",
    "## Create a dictionary named paid_students containing all students who either\n",
    "## haven't canceled yet or who remained enrolled for more than 7 days. The keys\n",
    "## should be account keys, and the values should be the date the student enrolled.\n",
    "\n",
    "paid_students ="
   ]
  },
  {
   "cell_type": "markdown",
   "metadata": {},
   "source": [
    "## Getting Data from First Week"
   ]
  },
  {
   "cell_type": "code",
   "execution_count": null,
   "metadata": {
    "collapsed": true
   },
   "outputs": [],
   "source": [
    "# Takes a student's join date and the date of a specific engagement record,\n",
    "# and returns True if that engagement record happened within one week\n",
    "# of the student joining.\n",
    "def within_one_week(join_date, engagement_date):\n",
    "    time_delta = engagement_date - join_date\n",
    "    return time_delta.days < 7"
   ]
  },
  {
   "cell_type": "code",
   "execution_count": null,
   "metadata": {
    "collapsed": true
   },
   "outputs": [],
   "source": [
    "#####################################\n",
    "#                 7                 #\n",
    "#####################################\n",
    "\n",
    "## Create a list of rows from the engagement table including only rows where\n",
    "## the student is one of the paid students you just found, and the date is within\n",
    "## one week of the student's join date.\n",
    "\n",
    "paid_engagement_in_first_week = "
   ]
  },
  {
   "cell_type": "markdown",
   "metadata": {},
   "source": [
    "## Exploring Student Engagement"
   ]
  },
  {
   "cell_type": "code",
   "execution_count": null,
   "metadata": {
    "collapsed": true
   },
   "outputs": [],
   "source": [
    "from collections import defaultdict\n",
    "\n",
    "# Create a dictionary of engagement grouped by student.\n",
    "# The keys are account keys, and the values are lists of engagement records.\n",
    "engagement_by_account = defaultdict(list)\n",
    "for engagement_record in paid_engagement_in_first_week:\n",
    "    account_key = engagement_record['account_key']\n",
    "    engagement_by_account[account_key].append(engagement_record)"
   ]
  },
  {
   "cell_type": "code",
   "execution_count": null,
   "metadata": {
    "collapsed": true
   },
   "outputs": [],
   "source": [
    "# Create a dictionary with the total minutes each student spent in the classroom during the first week.\n",
    "# The keys are account keys, and the values are numbers (total minutes)\n",
    "total_minutes_by_account = {}\n",
    "for account_key, engagement_for_student in engagement_by_account.items():\n",
    "    total_minutes = 0\n",
    "    for engagement_record in engagement_for_student:\n",
    "        total_minutes += engagement_record['total_minutes_visited']\n",
    "    total_minutes_by_account[account_key] = total_minutes"
   ]
  },
  {
   "cell_type": "code",
   "execution_count": null,
   "metadata": {
    "collapsed": true
   },
   "outputs": [],
   "source": [
    "import numpy as np\n",
    "\n",
    "# Summarize the data about minutes spent in the classroom\n",
    "total_minutes = total_minutes_by_account.values()\n",
    "print 'Mean:', np.mean(total_minutes)\n",
    "print 'Standard deviation:', np.std(total_minutes)\n",
    "print 'Minimum:', np.min(total_minutes)\n",
    "print 'Maximum:', np.max(total_minutes)"
   ]
  },
  {
   "cell_type": "markdown",
   "metadata": {},
   "source": [
    "## Debugging Data Analysis Code"
   ]
  },
  {
   "cell_type": "code",
   "execution_count": null,
   "metadata": {
    "collapsed": true
   },
   "outputs": [],
   "source": [
    "#####################################\n",
    "#                 8                 #\n",
    "#####################################\n",
    "\n",
    "## Go through a similar process as before to see if there is a problem.\n",
    "## Locate at least one surprising piece of data, output it, and take a look at it."
   ]
  },
  {
   "cell_type": "markdown",
   "metadata": {},
   "source": [
    "## Lessons Completed in First Week"
   ]
  },
  {
   "cell_type": "code",
   "execution_count": null,
   "metadata": {
    "collapsed": true
   },
   "outputs": [],
   "source": [
    "#####################################\n",
    "#                 9                 #\n",
    "#####################################\n",
    "\n",
    "## Adapt the code above to find the mean, standard deviation, minimum, and maximum for\n",
    "## the number of lessons completed by each student during the first week. Try creating\n",
    "## one or more functions to re-use the code above."
   ]
  },
  {
   "cell_type": "markdown",
   "metadata": {},
   "source": [
    "## Number of Visits in First Week"
   ]
  },
  {
   "cell_type": "code",
   "execution_count": null,
   "metadata": {
    "collapsed": true
   },
   "outputs": [],
   "source": [
    "######################################\n",
    "#                 10                 #\n",
    "######################################\n",
    "\n",
    "## Find the mean, standard deviation, minimum, and maximum for the number of\n",
    "## days each student visits the classroom during the first week."
   ]
  },
  {
   "cell_type": "markdown",
   "metadata": {},
   "source": [
    "## Splitting out Passing Students"
   ]
  },
  {
   "cell_type": "code",
   "execution_count": null,
   "metadata": {
    "collapsed": true
   },
   "outputs": [],
   "source": [
    "######################################\n",
    "#                 11                 #\n",
    "######################################\n",
    "\n",
    "## Create two lists of engagement data for paid students in the first week.\n",
    "## The first list should contain data for students who eventually pass the\n",
    "## subway project, and the second list should contain data for students\n",
    "## who do not.\n",
    "\n",
    "subway_project_lesson_keys = ['746169184', '3176718735']\n",
    "\n",
    "passing_engagement =\n",
    "non_passing_engagement ="
   ]
  },
  {
   "cell_type": "markdown",
   "metadata": {},
   "source": [
    "## Comparing the Two Student Groups"
   ]
  },
  {
   "cell_type": "code",
   "execution_count": null,
   "metadata": {
    "collapsed": true
   },
   "outputs": [],
   "source": [
    "######################################\n",
    "#                 12                 #\n",
    "######################################\n",
    "\n",
    "## Compute some metrics you're interested in and see how they differ for\n",
    "## students who pass the subway project vs. students who don't. A good\n",
    "## starting point would be the metrics we looked at earlier (minutes spent\n",
    "## in the classroom, lessons completed, and days visited)."
   ]
  },
  {
   "cell_type": "markdown",
   "metadata": {},
   "source": [
    "## Making Histograms"
   ]
  },
  {
   "cell_type": "code",
   "execution_count": null,
   "metadata": {
    "collapsed": true
   },
   "outputs": [],
   "source": [
    "######################################\n",
    "#                 13                 #\n",
    "######################################\n",
    "\n",
    "## Make histograms of the three metrics we looked at earlier for both\n",
    "## students who passed the subway project and students who didn't. You\n",
    "## might also want to make histograms of any other metrics you examined."
   ]
  },
  {
   "cell_type": "markdown",
   "metadata": {},
   "source": [
    "## Improving Plots and Sharing Findings"
   ]
  },
  {
   "cell_type": "code",
   "execution_count": null,
   "metadata": {
    "collapsed": true
   },
   "outputs": [],
   "source": [
    "######################################\n",
    "#                 14                 #\n",
    "######################################\n",
    "\n",
    "## Make a more polished version of at least one of your visualizations\n",
    "## from earlier. Try importing the seaborn library to make the visualization\n",
    "## look better, adding axis labels and a title, and changing one or more\n",
    "## arguments to the hist() function."
   ]
  }
 ],
 "metadata": {
  "kernelspec": {
   "display_name": "Python 3",
   "language": "python",
   "name": "python3"
  },
  "language_info": {
   "codemirror_mode": {
    "name": "ipython",
    "version": 3
   },
   "file_extension": ".py",
   "mimetype": "text/x-python",
   "name": "python",
   "nbconvert_exporter": "python",
   "pygments_lexer": "ipython3",
   "version": "3.6.3"
  }
 },
 "nbformat": 4,
 "nbformat_minor": 1
}
